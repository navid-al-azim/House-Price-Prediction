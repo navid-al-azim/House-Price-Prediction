{
 "cells": [
  {
   "cell_type": "code",
   "execution_count": 1,
   "id": "273b3b94",
   "metadata": {
    "_cell_guid": "b1076dfc-b9ad-4769-8c92-a6c4dae69d19",
    "_uuid": "8f2839f25d086af736a60e9eeb907d3b93b6e0e5",
    "execution": {
     "iopub.execute_input": "2021-08-03T20:47:59.831975Z",
     "iopub.status.busy": "2021-08-03T20:47:59.830721Z",
     "iopub.status.idle": "2021-08-03T20:48:01.000678Z",
     "shell.execute_reply": "2021-08-03T20:48:00.999681Z",
     "shell.execute_reply.started": "2021-08-03T19:38:53.382465Z"
    },
    "papermill": {
     "duration": 1.204092,
     "end_time": "2021-08-03T20:48:01.000888",
     "exception": false,
     "start_time": "2021-08-03T20:47:59.796796",
     "status": "completed"
    },
    "tags": []
   },
   "outputs": [
    {
     "name": "stdout",
     "output_type": "stream",
     "text": [
      "/kaggle/input/house-prices-advanced-regression-techniques/sample_submission.csv\n",
      "/kaggle/input/house-prices-advanced-regression-techniques/data_description.txt\n",
      "/kaggle/input/house-prices-advanced-regression-techniques/train.csv\n",
      "/kaggle/input/house-prices-advanced-regression-techniques/test.csv\n"
     ]
    }
   ],
   "source": [
    "import numpy as np \n",
    "import pandas as pd \n",
    "import matplotlib.pyplot as plt\n",
    "import seaborn as sns\n",
    "import os\n",
    "for dirname, _, filenames in os.walk('/kaggle/input'):\n",
    "    for filename in filenames:\n",
    "        print(os.path.join(dirname, filename))\n",
    "\n"
   ]
  },
  {
   "cell_type": "code",
   "execution_count": 2,
   "id": "cb666db3",
   "metadata": {
    "execution": {
     "iopub.execute_input": "2021-08-03T20:48:01.067534Z",
     "iopub.status.busy": "2021-08-03T20:48:01.066807Z",
     "iopub.status.idle": "2021-08-03T20:48:01.170693Z",
     "shell.execute_reply": "2021-08-03T20:48:01.169967Z",
     "shell.execute_reply.started": "2021-08-03T19:38:53.395755Z"
    },
    "papermill": {
     "duration": 0.138627,
     "end_time": "2021-08-03T20:48:01.170879",
     "exception": false,
     "start_time": "2021-08-03T20:48:01.032252",
     "status": "completed"
    },
    "tags": []
   },
   "outputs": [],
   "source": [
    "train = pd.read_csv('/kaggle/input/house-prices-advanced-regression-techniques/train.csv')\n",
    "test = pd.read_csv('/kaggle/input/house-prices-advanced-regression-techniques/test.csv')\n",
    "samSub = pd.read_csv('/kaggle/input/house-prices-advanced-regression-techniques/sample_submission.csv')"
   ]
  },
  {
   "cell_type": "code",
   "execution_count": 3,
   "id": "f100b8ce",
   "metadata": {
    "execution": {
     "iopub.execute_input": "2021-08-03T20:48:01.247546Z",
     "iopub.status.busy": "2021-08-03T20:48:01.246762Z",
     "iopub.status.idle": "2021-08-03T20:48:01.281327Z",
     "shell.execute_reply": "2021-08-03T20:48:01.280634Z",
     "shell.execute_reply.started": "2021-08-03T19:38:53.458461Z"
    },
    "papermill": {
     "duration": 0.080564,
     "end_time": "2021-08-03T20:48:01.281469",
     "exception": false,
     "start_time": "2021-08-03T20:48:01.200905",
     "status": "completed"
    },
    "tags": []
   },
   "outputs": [
    {
     "data": {
      "text/html": [
       "<div>\n",
       "<style scoped>\n",
       "    .dataframe tbody tr th:only-of-type {\n",
       "        vertical-align: middle;\n",
       "    }\n",
       "\n",
       "    .dataframe tbody tr th {\n",
       "        vertical-align: top;\n",
       "    }\n",
       "\n",
       "    .dataframe thead th {\n",
       "        text-align: right;\n",
       "    }\n",
       "</style>\n",
       "<table border=\"1\" class=\"dataframe\">\n",
       "  <thead>\n",
       "    <tr style=\"text-align: right;\">\n",
       "      <th></th>\n",
       "      <th>Id</th>\n",
       "      <th>MSSubClass</th>\n",
       "      <th>MSZoning</th>\n",
       "      <th>LotFrontage</th>\n",
       "      <th>LotArea</th>\n",
       "      <th>Street</th>\n",
       "      <th>Alley</th>\n",
       "      <th>LotShape</th>\n",
       "      <th>LandContour</th>\n",
       "      <th>Utilities</th>\n",
       "      <th>...</th>\n",
       "      <th>PoolArea</th>\n",
       "      <th>PoolQC</th>\n",
       "      <th>Fence</th>\n",
       "      <th>MiscFeature</th>\n",
       "      <th>MiscVal</th>\n",
       "      <th>MoSold</th>\n",
       "      <th>YrSold</th>\n",
       "      <th>SaleType</th>\n",
       "      <th>SaleCondition</th>\n",
       "      <th>SalePrice</th>\n",
       "    </tr>\n",
       "  </thead>\n",
       "  <tbody>\n",
       "    <tr>\n",
       "      <th>0</th>\n",
       "      <td>1</td>\n",
       "      <td>60</td>\n",
       "      <td>RL</td>\n",
       "      <td>65.0</td>\n",
       "      <td>8450</td>\n",
       "      <td>Pave</td>\n",
       "      <td>NaN</td>\n",
       "      <td>Reg</td>\n",
       "      <td>Lvl</td>\n",
       "      <td>AllPub</td>\n",
       "      <td>...</td>\n",
       "      <td>0</td>\n",
       "      <td>NaN</td>\n",
       "      <td>NaN</td>\n",
       "      <td>NaN</td>\n",
       "      <td>0</td>\n",
       "      <td>2</td>\n",
       "      <td>2008</td>\n",
       "      <td>WD</td>\n",
       "      <td>Normal</td>\n",
       "      <td>208500</td>\n",
       "    </tr>\n",
       "    <tr>\n",
       "      <th>1</th>\n",
       "      <td>2</td>\n",
       "      <td>20</td>\n",
       "      <td>RL</td>\n",
       "      <td>80.0</td>\n",
       "      <td>9600</td>\n",
       "      <td>Pave</td>\n",
       "      <td>NaN</td>\n",
       "      <td>Reg</td>\n",
       "      <td>Lvl</td>\n",
       "      <td>AllPub</td>\n",
       "      <td>...</td>\n",
       "      <td>0</td>\n",
       "      <td>NaN</td>\n",
       "      <td>NaN</td>\n",
       "      <td>NaN</td>\n",
       "      <td>0</td>\n",
       "      <td>5</td>\n",
       "      <td>2007</td>\n",
       "      <td>WD</td>\n",
       "      <td>Normal</td>\n",
       "      <td>181500</td>\n",
       "    </tr>\n",
       "    <tr>\n",
       "      <th>2</th>\n",
       "      <td>3</td>\n",
       "      <td>60</td>\n",
       "      <td>RL</td>\n",
       "      <td>68.0</td>\n",
       "      <td>11250</td>\n",
       "      <td>Pave</td>\n",
       "      <td>NaN</td>\n",
       "      <td>IR1</td>\n",
       "      <td>Lvl</td>\n",
       "      <td>AllPub</td>\n",
       "      <td>...</td>\n",
       "      <td>0</td>\n",
       "      <td>NaN</td>\n",
       "      <td>NaN</td>\n",
       "      <td>NaN</td>\n",
       "      <td>0</td>\n",
       "      <td>9</td>\n",
       "      <td>2008</td>\n",
       "      <td>WD</td>\n",
       "      <td>Normal</td>\n",
       "      <td>223500</td>\n",
       "    </tr>\n",
       "    <tr>\n",
       "      <th>3</th>\n",
       "      <td>4</td>\n",
       "      <td>70</td>\n",
       "      <td>RL</td>\n",
       "      <td>60.0</td>\n",
       "      <td>9550</td>\n",
       "      <td>Pave</td>\n",
       "      <td>NaN</td>\n",
       "      <td>IR1</td>\n",
       "      <td>Lvl</td>\n",
       "      <td>AllPub</td>\n",
       "      <td>...</td>\n",
       "      <td>0</td>\n",
       "      <td>NaN</td>\n",
       "      <td>NaN</td>\n",
       "      <td>NaN</td>\n",
       "      <td>0</td>\n",
       "      <td>2</td>\n",
       "      <td>2006</td>\n",
       "      <td>WD</td>\n",
       "      <td>Abnorml</td>\n",
       "      <td>140000</td>\n",
       "    </tr>\n",
       "    <tr>\n",
       "      <th>4</th>\n",
       "      <td>5</td>\n",
       "      <td>60</td>\n",
       "      <td>RL</td>\n",
       "      <td>84.0</td>\n",
       "      <td>14260</td>\n",
       "      <td>Pave</td>\n",
       "      <td>NaN</td>\n",
       "      <td>IR1</td>\n",
       "      <td>Lvl</td>\n",
       "      <td>AllPub</td>\n",
       "      <td>...</td>\n",
       "      <td>0</td>\n",
       "      <td>NaN</td>\n",
       "      <td>NaN</td>\n",
       "      <td>NaN</td>\n",
       "      <td>0</td>\n",
       "      <td>12</td>\n",
       "      <td>2008</td>\n",
       "      <td>WD</td>\n",
       "      <td>Normal</td>\n",
       "      <td>250000</td>\n",
       "    </tr>\n",
       "  </tbody>\n",
       "</table>\n",
       "<p>5 rows × 81 columns</p>\n",
       "</div>"
      ],
      "text/plain": [
       "   Id  MSSubClass MSZoning  LotFrontage  LotArea Street Alley LotShape  \\\n",
       "0   1          60       RL         65.0     8450   Pave   NaN      Reg   \n",
       "1   2          20       RL         80.0     9600   Pave   NaN      Reg   \n",
       "2   3          60       RL         68.0    11250   Pave   NaN      IR1   \n",
       "3   4          70       RL         60.0     9550   Pave   NaN      IR1   \n",
       "4   5          60       RL         84.0    14260   Pave   NaN      IR1   \n",
       "\n",
       "  LandContour Utilities  ... PoolArea PoolQC Fence MiscFeature MiscVal MoSold  \\\n",
       "0         Lvl    AllPub  ...        0    NaN   NaN         NaN       0      2   \n",
       "1         Lvl    AllPub  ...        0    NaN   NaN         NaN       0      5   \n",
       "2         Lvl    AllPub  ...        0    NaN   NaN         NaN       0      9   \n",
       "3         Lvl    AllPub  ...        0    NaN   NaN         NaN       0      2   \n",
       "4         Lvl    AllPub  ...        0    NaN   NaN         NaN       0     12   \n",
       "\n",
       "  YrSold  SaleType  SaleCondition  SalePrice  \n",
       "0   2008        WD         Normal     208500  \n",
       "1   2007        WD         Normal     181500  \n",
       "2   2008        WD         Normal     223500  \n",
       "3   2006        WD        Abnorml     140000  \n",
       "4   2008        WD         Normal     250000  \n",
       "\n",
       "[5 rows x 81 columns]"
      ]
     },
     "execution_count": 3,
     "metadata": {},
     "output_type": "execute_result"
    }
   ],
   "source": [
    "train.head()"
   ]
  },
  {
   "cell_type": "code",
   "execution_count": 4,
   "id": "7c56f9d8",
   "metadata": {
    "execution": {
     "iopub.execute_input": "2021-08-03T20:48:01.364769Z",
     "iopub.status.busy": "2021-08-03T20:48:01.363243Z",
     "iopub.status.idle": "2021-08-03T20:48:01.378302Z",
     "shell.execute_reply": "2021-08-03T20:48:01.379165Z",
     "shell.execute_reply.started": "2021-08-03T19:38:53.487312Z"
    },
    "papermill": {
     "duration": 0.067729,
     "end_time": "2021-08-03T20:48:01.379383",
     "exception": false,
     "start_time": "2021-08-03T20:48:01.311654",
     "status": "completed"
    },
    "tags": []
   },
   "outputs": [
    {
     "data": {
      "text/html": [
       "<div>\n",
       "<style scoped>\n",
       "    .dataframe tbody tr th:only-of-type {\n",
       "        vertical-align: middle;\n",
       "    }\n",
       "\n",
       "    .dataframe tbody tr th {\n",
       "        vertical-align: top;\n",
       "    }\n",
       "\n",
       "    .dataframe thead th {\n",
       "        text-align: right;\n",
       "    }\n",
       "</style>\n",
       "<table border=\"1\" class=\"dataframe\">\n",
       "  <thead>\n",
       "    <tr style=\"text-align: right;\">\n",
       "      <th></th>\n",
       "      <th>Id</th>\n",
       "      <th>MSSubClass</th>\n",
       "      <th>MSZoning</th>\n",
       "      <th>LotFrontage</th>\n",
       "      <th>LotArea</th>\n",
       "      <th>Street</th>\n",
       "      <th>Alley</th>\n",
       "      <th>LotShape</th>\n",
       "      <th>LandContour</th>\n",
       "      <th>Utilities</th>\n",
       "      <th>...</th>\n",
       "      <th>ScreenPorch</th>\n",
       "      <th>PoolArea</th>\n",
       "      <th>PoolQC</th>\n",
       "      <th>Fence</th>\n",
       "      <th>MiscFeature</th>\n",
       "      <th>MiscVal</th>\n",
       "      <th>MoSold</th>\n",
       "      <th>YrSold</th>\n",
       "      <th>SaleType</th>\n",
       "      <th>SaleCondition</th>\n",
       "    </tr>\n",
       "  </thead>\n",
       "  <tbody>\n",
       "    <tr>\n",
       "      <th>0</th>\n",
       "      <td>1461</td>\n",
       "      <td>20</td>\n",
       "      <td>RH</td>\n",
       "      <td>80.0</td>\n",
       "      <td>11622</td>\n",
       "      <td>Pave</td>\n",
       "      <td>NaN</td>\n",
       "      <td>Reg</td>\n",
       "      <td>Lvl</td>\n",
       "      <td>AllPub</td>\n",
       "      <td>...</td>\n",
       "      <td>120</td>\n",
       "      <td>0</td>\n",
       "      <td>NaN</td>\n",
       "      <td>MnPrv</td>\n",
       "      <td>NaN</td>\n",
       "      <td>0</td>\n",
       "      <td>6</td>\n",
       "      <td>2010</td>\n",
       "      <td>WD</td>\n",
       "      <td>Normal</td>\n",
       "    </tr>\n",
       "    <tr>\n",
       "      <th>1</th>\n",
       "      <td>1462</td>\n",
       "      <td>20</td>\n",
       "      <td>RL</td>\n",
       "      <td>81.0</td>\n",
       "      <td>14267</td>\n",
       "      <td>Pave</td>\n",
       "      <td>NaN</td>\n",
       "      <td>IR1</td>\n",
       "      <td>Lvl</td>\n",
       "      <td>AllPub</td>\n",
       "      <td>...</td>\n",
       "      <td>0</td>\n",
       "      <td>0</td>\n",
       "      <td>NaN</td>\n",
       "      <td>NaN</td>\n",
       "      <td>Gar2</td>\n",
       "      <td>12500</td>\n",
       "      <td>6</td>\n",
       "      <td>2010</td>\n",
       "      <td>WD</td>\n",
       "      <td>Normal</td>\n",
       "    </tr>\n",
       "    <tr>\n",
       "      <th>2</th>\n",
       "      <td>1463</td>\n",
       "      <td>60</td>\n",
       "      <td>RL</td>\n",
       "      <td>74.0</td>\n",
       "      <td>13830</td>\n",
       "      <td>Pave</td>\n",
       "      <td>NaN</td>\n",
       "      <td>IR1</td>\n",
       "      <td>Lvl</td>\n",
       "      <td>AllPub</td>\n",
       "      <td>...</td>\n",
       "      <td>0</td>\n",
       "      <td>0</td>\n",
       "      <td>NaN</td>\n",
       "      <td>MnPrv</td>\n",
       "      <td>NaN</td>\n",
       "      <td>0</td>\n",
       "      <td>3</td>\n",
       "      <td>2010</td>\n",
       "      <td>WD</td>\n",
       "      <td>Normal</td>\n",
       "    </tr>\n",
       "    <tr>\n",
       "      <th>3</th>\n",
       "      <td>1464</td>\n",
       "      <td>60</td>\n",
       "      <td>RL</td>\n",
       "      <td>78.0</td>\n",
       "      <td>9978</td>\n",
       "      <td>Pave</td>\n",
       "      <td>NaN</td>\n",
       "      <td>IR1</td>\n",
       "      <td>Lvl</td>\n",
       "      <td>AllPub</td>\n",
       "      <td>...</td>\n",
       "      <td>0</td>\n",
       "      <td>0</td>\n",
       "      <td>NaN</td>\n",
       "      <td>NaN</td>\n",
       "      <td>NaN</td>\n",
       "      <td>0</td>\n",
       "      <td>6</td>\n",
       "      <td>2010</td>\n",
       "      <td>WD</td>\n",
       "      <td>Normal</td>\n",
       "    </tr>\n",
       "    <tr>\n",
       "      <th>4</th>\n",
       "      <td>1465</td>\n",
       "      <td>120</td>\n",
       "      <td>RL</td>\n",
       "      <td>43.0</td>\n",
       "      <td>5005</td>\n",
       "      <td>Pave</td>\n",
       "      <td>NaN</td>\n",
       "      <td>IR1</td>\n",
       "      <td>HLS</td>\n",
       "      <td>AllPub</td>\n",
       "      <td>...</td>\n",
       "      <td>144</td>\n",
       "      <td>0</td>\n",
       "      <td>NaN</td>\n",
       "      <td>NaN</td>\n",
       "      <td>NaN</td>\n",
       "      <td>0</td>\n",
       "      <td>1</td>\n",
       "      <td>2010</td>\n",
       "      <td>WD</td>\n",
       "      <td>Normal</td>\n",
       "    </tr>\n",
       "  </tbody>\n",
       "</table>\n",
       "<p>5 rows × 80 columns</p>\n",
       "</div>"
      ],
      "text/plain": [
       "     Id  MSSubClass MSZoning  LotFrontage  LotArea Street Alley LotShape  \\\n",
       "0  1461          20       RH         80.0    11622   Pave   NaN      Reg   \n",
       "1  1462          20       RL         81.0    14267   Pave   NaN      IR1   \n",
       "2  1463          60       RL         74.0    13830   Pave   NaN      IR1   \n",
       "3  1464          60       RL         78.0     9978   Pave   NaN      IR1   \n",
       "4  1465         120       RL         43.0     5005   Pave   NaN      IR1   \n",
       "\n",
       "  LandContour Utilities  ... ScreenPorch PoolArea PoolQC  Fence MiscFeature  \\\n",
       "0         Lvl    AllPub  ...         120        0    NaN  MnPrv         NaN   \n",
       "1         Lvl    AllPub  ...           0        0    NaN    NaN        Gar2   \n",
       "2         Lvl    AllPub  ...           0        0    NaN  MnPrv         NaN   \n",
       "3         Lvl    AllPub  ...           0        0    NaN    NaN         NaN   \n",
       "4         HLS    AllPub  ...         144        0    NaN    NaN         NaN   \n",
       "\n",
       "  MiscVal MoSold  YrSold  SaleType  SaleCondition  \n",
       "0       0      6    2010        WD         Normal  \n",
       "1   12500      6    2010        WD         Normal  \n",
       "2       0      3    2010        WD         Normal  \n",
       "3       0      6    2010        WD         Normal  \n",
       "4       0      1    2010        WD         Normal  \n",
       "\n",
       "[5 rows x 80 columns]"
      ]
     },
     "execution_count": 4,
     "metadata": {},
     "output_type": "execute_result"
    }
   ],
   "source": [
    "test.head()"
   ]
  },
  {
   "cell_type": "code",
   "execution_count": 5,
   "id": "065d7e1a",
   "metadata": {
    "execution": {
     "iopub.execute_input": "2021-08-03T20:48:01.447975Z",
     "iopub.status.busy": "2021-08-03T20:48:01.447002Z",
     "iopub.status.idle": "2021-08-03T20:48:01.451685Z",
     "shell.execute_reply": "2021-08-03T20:48:01.451086Z",
     "shell.execute_reply.started": "2021-08-03T19:38:53.517596Z"
    },
    "papermill": {
     "duration": 0.040548,
     "end_time": "2021-08-03T20:48:01.451843",
     "exception": false,
     "start_time": "2021-08-03T20:48:01.411295",
     "status": "completed"
    },
    "tags": []
   },
   "outputs": [
    {
     "data": {
      "text/plain": [
       "(1460, 81)"
      ]
     },
     "execution_count": 5,
     "metadata": {},
     "output_type": "execute_result"
    }
   ],
   "source": [
    "train.shape"
   ]
  },
  {
   "cell_type": "code",
   "execution_count": 6,
   "id": "591270aa",
   "metadata": {
    "execution": {
     "iopub.execute_input": "2021-08-03T20:48:01.521314Z",
     "iopub.status.busy": "2021-08-03T20:48:01.520631Z",
     "iopub.status.idle": "2021-08-03T20:48:01.559091Z",
     "shell.execute_reply": "2021-08-03T20:48:01.558131Z",
     "shell.execute_reply.started": "2021-08-03T19:39:23.787059Z"
    },
    "papermill": {
     "duration": 0.073499,
     "end_time": "2021-08-03T20:48:01.559298",
     "exception": false,
     "start_time": "2021-08-03T20:48:01.485799",
     "status": "completed"
    },
    "tags": []
   },
   "outputs": [
    {
     "name": "stdout",
     "output_type": "stream",
     "text": [
      "<class 'pandas.core.frame.DataFrame'>\n",
      "RangeIndex: 1460 entries, 0 to 1459\n",
      "Data columns (total 81 columns):\n",
      " #   Column         Non-Null Count  Dtype  \n",
      "---  ------         --------------  -----  \n",
      " 0   Id             1460 non-null   int64  \n",
      " 1   MSSubClass     1460 non-null   int64  \n",
      " 2   MSZoning       1460 non-null   object \n",
      " 3   LotFrontage    1201 non-null   float64\n",
      " 4   LotArea        1460 non-null   int64  \n",
      " 5   Street         1460 non-null   object \n",
      " 6   Alley          91 non-null     object \n",
      " 7   LotShape       1460 non-null   object \n",
      " 8   LandContour    1460 non-null   object \n",
      " 9   Utilities      1460 non-null   object \n",
      " 10  LotConfig      1460 non-null   object \n",
      " 11  LandSlope      1460 non-null   object \n",
      " 12  Neighborhood   1460 non-null   object \n",
      " 13  Condition1     1460 non-null   object \n",
      " 14  Condition2     1460 non-null   object \n",
      " 15  BldgType       1460 non-null   object \n",
      " 16  HouseStyle     1460 non-null   object \n",
      " 17  OverallQual    1460 non-null   int64  \n",
      " 18  OverallCond    1460 non-null   int64  \n",
      " 19  YearBuilt      1460 non-null   int64  \n",
      " 20  YearRemodAdd   1460 non-null   int64  \n",
      " 21  RoofStyle      1460 non-null   object \n",
      " 22  RoofMatl       1460 non-null   object \n",
      " 23  Exterior1st    1460 non-null   object \n",
      " 24  Exterior2nd    1460 non-null   object \n",
      " 25  MasVnrType     1452 non-null   object \n",
      " 26  MasVnrArea     1452 non-null   float64\n",
      " 27  ExterQual      1460 non-null   object \n",
      " 28  ExterCond      1460 non-null   object \n",
      " 29  Foundation     1460 non-null   object \n",
      " 30  BsmtQual       1423 non-null   object \n",
      " 31  BsmtCond       1423 non-null   object \n",
      " 32  BsmtExposure   1422 non-null   object \n",
      " 33  BsmtFinType1   1423 non-null   object \n",
      " 34  BsmtFinSF1     1460 non-null   int64  \n",
      " 35  BsmtFinType2   1422 non-null   object \n",
      " 36  BsmtFinSF2     1460 non-null   int64  \n",
      " 37  BsmtUnfSF      1460 non-null   int64  \n",
      " 38  TotalBsmtSF    1460 non-null   int64  \n",
      " 39  Heating        1460 non-null   object \n",
      " 40  HeatingQC      1460 non-null   object \n",
      " 41  CentralAir     1460 non-null   object \n",
      " 42  Electrical     1459 non-null   object \n",
      " 43  1stFlrSF       1460 non-null   int64  \n",
      " 44  2ndFlrSF       1460 non-null   int64  \n",
      " 45  LowQualFinSF   1460 non-null   int64  \n",
      " 46  GrLivArea      1460 non-null   int64  \n",
      " 47  BsmtFullBath   1460 non-null   int64  \n",
      " 48  BsmtHalfBath   1460 non-null   int64  \n",
      " 49  FullBath       1460 non-null   int64  \n",
      " 50  HalfBath       1460 non-null   int64  \n",
      " 51  BedroomAbvGr   1460 non-null   int64  \n",
      " 52  KitchenAbvGr   1460 non-null   int64  \n",
      " 53  KitchenQual    1460 non-null   object \n",
      " 54  TotRmsAbvGrd   1460 non-null   int64  \n",
      " 55  Functional     1460 non-null   object \n",
      " 56  Fireplaces     1460 non-null   int64  \n",
      " 57  FireplaceQu    770 non-null    object \n",
      " 58  GarageType     1379 non-null   object \n",
      " 59  GarageYrBlt    1379 non-null   float64\n",
      " 60  GarageFinish   1379 non-null   object \n",
      " 61  GarageCars     1460 non-null   int64  \n",
      " 62  GarageArea     1460 non-null   int64  \n",
      " 63  GarageQual     1379 non-null   object \n",
      " 64  GarageCond     1379 non-null   object \n",
      " 65  PavedDrive     1460 non-null   object \n",
      " 66  WoodDeckSF     1460 non-null   int64  \n",
      " 67  OpenPorchSF    1460 non-null   int64  \n",
      " 68  EnclosedPorch  1460 non-null   int64  \n",
      " 69  3SsnPorch      1460 non-null   int64  \n",
      " 70  ScreenPorch    1460 non-null   int64  \n",
      " 71  PoolArea       1460 non-null   int64  \n",
      " 72  PoolQC         7 non-null      object \n",
      " 73  Fence          281 non-null    object \n",
      " 74  MiscFeature    54 non-null     object \n",
      " 75  MiscVal        1460 non-null   int64  \n",
      " 76  MoSold         1460 non-null   int64  \n",
      " 77  YrSold         1460 non-null   int64  \n",
      " 78  SaleType       1460 non-null   object \n",
      " 79  SaleCondition  1460 non-null   object \n",
      " 80  SalePrice      1460 non-null   int64  \n",
      "dtypes: float64(3), int64(35), object(43)\n",
      "memory usage: 924.0+ KB\n"
     ]
    }
   ],
   "source": [
    "train.info()"
   ]
  },
  {
   "cell_type": "code",
   "execution_count": 7,
   "id": "a17cc27c",
   "metadata": {
    "execution": {
     "iopub.execute_input": "2021-08-03T20:48:01.650979Z",
     "iopub.status.busy": "2021-08-03T20:48:01.639891Z",
     "iopub.status.idle": "2021-08-03T20:48:01.659930Z",
     "shell.execute_reply": "2021-08-03T20:48:01.660439Z",
     "shell.execute_reply.started": "2021-08-03T19:39:15.172008Z"
    },
    "papermill": {
     "duration": 0.066563,
     "end_time": "2021-08-03T20:48:01.660656",
     "exception": false,
     "start_time": "2021-08-03T20:48:01.594093",
     "status": "completed"
    },
    "tags": []
   },
   "outputs": [
    {
     "name": "stdout",
     "output_type": "stream",
     "text": [
      "<class 'pandas.core.frame.DataFrame'>\n",
      "RangeIndex: 1459 entries, 0 to 1458\n",
      "Data columns (total 80 columns):\n",
      " #   Column         Non-Null Count  Dtype  \n",
      "---  ------         --------------  -----  \n",
      " 0   Id             1459 non-null   int64  \n",
      " 1   MSSubClass     1459 non-null   int64  \n",
      " 2   MSZoning       1455 non-null   object \n",
      " 3   LotFrontage    1232 non-null   float64\n",
      " 4   LotArea        1459 non-null   int64  \n",
      " 5   Street         1459 non-null   object \n",
      " 6   Alley          107 non-null    object \n",
      " 7   LotShape       1459 non-null   object \n",
      " 8   LandContour    1459 non-null   object \n",
      " 9   Utilities      1457 non-null   object \n",
      " 10  LotConfig      1459 non-null   object \n",
      " 11  LandSlope      1459 non-null   object \n",
      " 12  Neighborhood   1459 non-null   object \n",
      " 13  Condition1     1459 non-null   object \n",
      " 14  Condition2     1459 non-null   object \n",
      " 15  BldgType       1459 non-null   object \n",
      " 16  HouseStyle     1459 non-null   object \n",
      " 17  OverallQual    1459 non-null   int64  \n",
      " 18  OverallCond    1459 non-null   int64  \n",
      " 19  YearBuilt      1459 non-null   int64  \n",
      " 20  YearRemodAdd   1459 non-null   int64  \n",
      " 21  RoofStyle      1459 non-null   object \n",
      " 22  RoofMatl       1459 non-null   object \n",
      " 23  Exterior1st    1458 non-null   object \n",
      " 24  Exterior2nd    1458 non-null   object \n",
      " 25  MasVnrType     1443 non-null   object \n",
      " 26  MasVnrArea     1444 non-null   float64\n",
      " 27  ExterQual      1459 non-null   object \n",
      " 28  ExterCond      1459 non-null   object \n",
      " 29  Foundation     1459 non-null   object \n",
      " 30  BsmtQual       1415 non-null   object \n",
      " 31  BsmtCond       1414 non-null   object \n",
      " 32  BsmtExposure   1415 non-null   object \n",
      " 33  BsmtFinType1   1417 non-null   object \n",
      " 34  BsmtFinSF1     1458 non-null   float64\n",
      " 35  BsmtFinType2   1417 non-null   object \n",
      " 36  BsmtFinSF2     1458 non-null   float64\n",
      " 37  BsmtUnfSF      1458 non-null   float64\n",
      " 38  TotalBsmtSF    1458 non-null   float64\n",
      " 39  Heating        1459 non-null   object \n",
      " 40  HeatingQC      1459 non-null   object \n",
      " 41  CentralAir     1459 non-null   object \n",
      " 42  Electrical     1459 non-null   object \n",
      " 43  1stFlrSF       1459 non-null   int64  \n",
      " 44  2ndFlrSF       1459 non-null   int64  \n",
      " 45  LowQualFinSF   1459 non-null   int64  \n",
      " 46  GrLivArea      1459 non-null   int64  \n",
      " 47  BsmtFullBath   1457 non-null   float64\n",
      " 48  BsmtHalfBath   1457 non-null   float64\n",
      " 49  FullBath       1459 non-null   int64  \n",
      " 50  HalfBath       1459 non-null   int64  \n",
      " 51  BedroomAbvGr   1459 non-null   int64  \n",
      " 52  KitchenAbvGr   1459 non-null   int64  \n",
      " 53  KitchenQual    1458 non-null   object \n",
      " 54  TotRmsAbvGrd   1459 non-null   int64  \n",
      " 55  Functional     1457 non-null   object \n",
      " 56  Fireplaces     1459 non-null   int64  \n",
      " 57  FireplaceQu    729 non-null    object \n",
      " 58  GarageType     1383 non-null   object \n",
      " 59  GarageYrBlt    1381 non-null   float64\n",
      " 60  GarageFinish   1381 non-null   object \n",
      " 61  GarageCars     1458 non-null   float64\n",
      " 62  GarageArea     1458 non-null   float64\n",
      " 63  GarageQual     1381 non-null   object \n",
      " 64  GarageCond     1381 non-null   object \n",
      " 65  PavedDrive     1459 non-null   object \n",
      " 66  WoodDeckSF     1459 non-null   int64  \n",
      " 67  OpenPorchSF    1459 non-null   int64  \n",
      " 68  EnclosedPorch  1459 non-null   int64  \n",
      " 69  3SsnPorch      1459 non-null   int64  \n",
      " 70  ScreenPorch    1459 non-null   int64  \n",
      " 71  PoolArea       1459 non-null   int64  \n",
      " 72  PoolQC         3 non-null      object \n",
      " 73  Fence          290 non-null    object \n",
      " 74  MiscFeature    51 non-null     object \n",
      " 75  MiscVal        1459 non-null   int64  \n",
      " 76  MoSold         1459 non-null   int64  \n",
      " 77  YrSold         1459 non-null   int64  \n",
      " 78  SaleType       1458 non-null   object \n",
      " 79  SaleCondition  1459 non-null   object \n",
      "dtypes: float64(11), int64(26), object(43)\n",
      "memory usage: 912.0+ KB\n"
     ]
    }
   ],
   "source": [
    "test.info()"
   ]
  },
  {
   "cell_type": "code",
   "execution_count": 8,
   "id": "b8f6c721",
   "metadata": {
    "execution": {
     "iopub.execute_input": "2021-08-03T20:48:01.739485Z",
     "iopub.status.busy": "2021-08-03T20:48:01.738570Z",
     "iopub.status.idle": "2021-08-03T20:48:01.743903Z",
     "shell.execute_reply": "2021-08-03T20:48:01.744386Z",
     "shell.execute_reply.started": "2021-08-03T19:38:53.597057Z"
    },
    "papermill": {
     "duration": 0.04938,
     "end_time": "2021-08-03T20:48:01.744593",
     "exception": false,
     "start_time": "2021-08-03T20:48:01.695213",
     "status": "completed"
    },
    "tags": []
   },
   "outputs": [],
   "source": [
    "test['MSZoning'] = test['MSZoning'].fillna(test['MSZoning'].mode()[0])\n",
    "train['LotFrontage'] = train['LotFrontage'].fillna(train['LotFrontage'].mean())\n",
    "test['LotFrontage'] = test['LotFrontage'].fillna(test['LotFrontage'].mean())\n",
    "train.drop(['Alley'], axis = 1, inplace = True)\n",
    "test.drop(['Alley'], axis = 1, inplace = True)"
   ]
  },
  {
   "cell_type": "code",
   "execution_count": 9,
   "id": "55308808",
   "metadata": {
    "execution": {
     "iopub.execute_input": "2021-08-03T20:48:01.817802Z",
     "iopub.status.busy": "2021-08-03T20:48:01.817049Z",
     "iopub.status.idle": "2021-08-03T20:48:01.836205Z",
     "shell.execute_reply": "2021-08-03T20:48:01.836841Z",
     "shell.execute_reply.started": "2021-08-03T19:38:53.611857Z"
    },
    "papermill": {
     "duration": 0.056795,
     "end_time": "2021-08-03T20:48:01.837032",
     "exception": false,
     "start_time": "2021-08-03T20:48:01.780237",
     "status": "completed"
    },
    "tags": []
   },
   "outputs": [],
   "source": [
    "test['Utilities'] = test['Utilities'].fillna(test['Utilities'].mode()[0])\n",
    "train['MasVnrType'] = train['MasVnrType'].fillna(train['MasVnrType'].mode()[0])\n",
    "train['MasVnrArea'] = train['MasVnrArea'].fillna(train['MasVnrArea'].mean())\n",
    "train['BsmtQual'] = train['BsmtQual'].fillna(train['BsmtQual'].mode()[0])\n",
    "train['BsmtCond'] = train['BsmtCond'].fillna(train['BsmtCond'].mode()[0])\n",
    "train['BsmtExposure'] = train['BsmtExposure'].fillna(train['BsmtExposure'].mode()[0])\n",
    "train['BsmtFinType1'] = train['BsmtFinType1'].fillna(train['BsmtFinType1'].mode()[0])\n",
    "train['BsmtFinType2'] = train['BsmtFinType2'].fillna(train['BsmtFinType2'].mode()[0])\n",
    "train['Electrical'] = train['Electrical'].fillna(train['Electrical'].mode()[0])"
   ]
  },
  {
   "cell_type": "code",
   "execution_count": 10,
   "id": "f4f9c313",
   "metadata": {
    "execution": {
     "iopub.execute_input": "2021-08-03T20:48:01.905695Z",
     "iopub.status.busy": "2021-08-03T20:48:01.904947Z",
     "iopub.status.idle": "2021-08-03T20:48:01.925801Z",
     "shell.execute_reply": "2021-08-03T20:48:01.926415Z",
     "shell.execute_reply.started": "2021-08-03T19:38:53.637998Z"
    },
    "papermill": {
     "duration": 0.056983,
     "end_time": "2021-08-03T20:48:01.926644",
     "exception": false,
     "start_time": "2021-08-03T20:48:01.869661",
     "status": "completed"
    },
    "tags": []
   },
   "outputs": [],
   "source": [
    "train['FireplaceQu'] = train['FireplaceQu'].fillna(train['FireplaceQu'].mode()[0])\n",
    "train['GarageType'] = train['GarageType'].fillna(train['GarageType'].mode()[0])\n",
    "train['GarageYrBlt'] = train['GarageYrBlt'].fillna(train['GarageYrBlt'].mean())\n",
    "train['GarageFinish'] = train['GarageFinish'].fillna(train['GarageFinish'].mode()[0])\n",
    "train['GarageQual'] = train['GarageQual'].fillna(train['GarageQual'].mode()[0])\n",
    "train['GarageCond'] = train['GarageCond'].fillna(train['GarageCond'].mode()[0])\n",
    "train.drop(['PoolQC'], axis = 1, inplace = True)\n",
    "train.drop(['Fence'], axis = 1, inplace = True)\n",
    "train.drop(['MiscFeature'], axis = 1, inplace = True)"
   ]
  },
  {
   "cell_type": "code",
   "execution_count": 11,
   "id": "151bc63d",
   "metadata": {
    "execution": {
     "iopub.execute_input": "2021-08-03T20:48:01.997463Z",
     "iopub.status.busy": "2021-08-03T20:48:01.996794Z",
     "iopub.status.idle": "2021-08-03T20:48:02.028620Z",
     "shell.execute_reply": "2021-08-03T20:48:02.027521Z",
     "shell.execute_reply.started": "2021-08-03T19:38:53.662226Z"
    },
    "papermill": {
     "duration": 0.069462,
     "end_time": "2021-08-03T20:48:02.028894",
     "exception": false,
     "start_time": "2021-08-03T20:48:01.959432",
     "status": "completed"
    },
    "tags": []
   },
   "outputs": [],
   "source": [
    "test['Exterior1st'] = test['Exterior1st'].fillna(test['Exterior1st'].mode()[0])\n",
    "test['Exterior2nd'] = test['Exterior2nd'].fillna(test['Exterior2nd'].mode()[0])\n",
    "test['MasVnrType'] = test['MasVnrType'].fillna(test['MasVnrType'].mode()[0])\n",
    "test['MasVnrArea'] = train['MasVnrArea'].fillna(train['MasVnrArea'].mean())\n",
    "train['BsmtQual'] = train['BsmtQual'].fillna(train['BsmtQual'].mode()[0])\n",
    "test['BsmtCond'] = test['BsmtCond'].fillna(test['BsmtCond'].mode()[0])\n",
    "test['BsmtExposure'] = test['BsmtExposure'].fillna(test['BsmtExposure'].mode()[0])\n",
    "test['BsmtFinType1'] = test['BsmtFinType1'].fillna(test['BsmtFinType1'].mode()[0])\n",
    "test['BsmtFinType2'] = test['BsmtFinType2'].fillna(test['BsmtFinType2'].mode()[0])\n",
    "test['Electrical'] = test['Electrical'].fillna(test['Electrical'].mode()[0])\n",
    "test['BsmtFinSF1'] = train['BsmtFinSF1'].fillna(train['BsmtFinSF1'].mean())\n",
    "test['BsmtFinSF2'] = train['BsmtFinSF2'].fillna(train['BsmtFinSF2'].mean())\n",
    "test['BsmtUnfSF'] = train['BsmtUnfSF'].fillna(train['BsmtUnfSF'].mean())\n",
    "test['TotalBsmtSF'] = train['TotalBsmtSF'].fillna(train['TotalBsmtSF'].mean())\n",
    "test['BsmtFullBath'] = train['BsmtFullBath'].fillna(train['BsmtFullBath'].mean())\n",
    "test['BsmtHalfBath'] = train['BsmtHalfBath'].fillna(train['BsmtHalfBath'].mean())"
   ]
  },
  {
   "cell_type": "code",
   "execution_count": 12,
   "id": "69d918c1",
   "metadata": {
    "execution": {
     "iopub.execute_input": "2021-08-03T20:48:02.108177Z",
     "iopub.status.busy": "2021-08-03T20:48:02.107412Z",
     "iopub.status.idle": "2021-08-03T20:48:02.110936Z",
     "shell.execute_reply": "2021-08-03T20:48:02.110242Z",
     "shell.execute_reply.started": "2021-08-03T19:38:53.692974Z"
    },
    "papermill": {
     "duration": 0.048136,
     "end_time": "2021-08-03T20:48:02.111082",
     "exception": false,
     "start_time": "2021-08-03T20:48:02.062946",
     "status": "completed"
    },
    "tags": []
   },
   "outputs": [],
   "source": [
    "test['KitchenQual'] = test['KitchenQual'].fillna(test['KitchenQual'].mode()[0])\n",
    "test['Functional'] = test['Functional'].fillna(test['Functional'].mode()[0])\n"
   ]
  },
  {
   "cell_type": "code",
   "execution_count": 13,
   "id": "d4af8f05",
   "metadata": {
    "execution": {
     "iopub.execute_input": "2021-08-03T20:48:02.192934Z",
     "iopub.status.busy": "2021-08-03T20:48:02.192148Z",
     "iopub.status.idle": "2021-08-03T20:48:02.195498Z",
     "shell.execute_reply": "2021-08-03T20:48:02.196039Z",
     "shell.execute_reply.started": "2021-08-03T19:38:53.705052Z"
    },
    "papermill": {
     "duration": 0.053468,
     "end_time": "2021-08-03T20:48:02.196229",
     "exception": false,
     "start_time": "2021-08-03T20:48:02.142761",
     "status": "completed"
    },
    "tags": []
   },
   "outputs": [],
   "source": [
    "test['FireplaceQu'] = test['FireplaceQu'].fillna(test['FireplaceQu'].mode()[0])\n",
    "test['GarageType'] = test['GarageType'].fillna(test['GarageType'].mode()[0])\n",
    "test['GarageYrBlt'] = test['GarageYrBlt'].fillna(test['GarageYrBlt'].mean())\n",
    "test['GarageFinish'] = test['GarageFinish'].fillna(test['GarageFinish'].mode()[0])\n",
    "test['GarageQual'] = test['GarageQual'].fillna(test['GarageQual'].mode()[0])\n",
    "test['GarageCond'] = test['GarageCond'].fillna(test['GarageCond'].mode()[0])\n",
    "test['GarageCars'] = test['GarageCars'].fillna(test['GarageCars'].mean())\n",
    "test['GarageArea'] = test['GarageArea'].fillna(test['GarageArea'].mean())"
   ]
  },
  {
   "cell_type": "code",
   "execution_count": 14,
   "id": "0c9848be",
   "metadata": {
    "execution": {
     "iopub.execute_input": "2021-08-03T20:48:02.268064Z",
     "iopub.status.busy": "2021-08-03T20:48:02.267084Z",
     "iopub.status.idle": "2021-08-03T20:48:02.275823Z",
     "shell.execute_reply": "2021-08-03T20:48:02.276304Z",
     "shell.execute_reply.started": "2021-08-03T19:38:53.722187Z"
    },
    "papermill": {
     "duration": 0.048038,
     "end_time": "2021-08-03T20:48:02.276497",
     "exception": false,
     "start_time": "2021-08-03T20:48:02.228459",
     "status": "completed"
    },
    "tags": []
   },
   "outputs": [],
   "source": [
    "test.drop(['PoolQC'], axis = 1, inplace = True)\n",
    "test.drop(['Fence'], axis = 1, inplace = True)\n",
    "test.drop(['MiscFeature'], axis = 1, inplace = True)"
   ]
  },
  {
   "cell_type": "code",
   "execution_count": 15,
   "id": "39ab0932",
   "metadata": {
    "execution": {
     "iopub.execute_input": "2021-08-03T20:48:02.346988Z",
     "iopub.status.busy": "2021-08-03T20:48:02.346195Z",
     "iopub.status.idle": "2021-08-03T20:48:02.349836Z",
     "shell.execute_reply": "2021-08-03T20:48:02.349214Z",
     "shell.execute_reply.started": "2021-08-03T19:38:53.742497Z"
    },
    "papermill": {
     "duration": 0.041861,
     "end_time": "2021-08-03T20:48:02.349979",
     "exception": false,
     "start_time": "2021-08-03T20:48:02.308118",
     "status": "completed"
    },
    "tags": []
   },
   "outputs": [],
   "source": [
    "test['SaleType'] = test['SaleType'].fillna(test['SaleType'].mode()[0])"
   ]
  },
  {
   "cell_type": "code",
   "execution_count": 16,
   "id": "d3747f36",
   "metadata": {
    "execution": {
     "iopub.execute_input": "2021-08-03T20:48:02.419827Z",
     "iopub.status.busy": "2021-08-03T20:48:02.418375Z",
     "iopub.status.idle": "2021-08-03T20:48:02.424466Z",
     "shell.execute_reply": "2021-08-03T20:48:02.423817Z",
     "shell.execute_reply.started": "2021-08-03T19:38:53.750246Z"
    },
    "papermill": {
     "duration": 0.043176,
     "end_time": "2021-08-03T20:48:02.424647",
     "exception": false,
     "start_time": "2021-08-03T20:48:02.381471",
     "status": "completed"
    },
    "tags": []
   },
   "outputs": [],
   "source": [
    "df_train = train.copy()\n",
    "df_test = test.copy()"
   ]
  },
  {
   "cell_type": "code",
   "execution_count": 17,
   "id": "cca26108",
   "metadata": {
    "execution": {
     "iopub.execute_input": "2021-08-03T20:48:02.505930Z",
     "iopub.status.busy": "2021-08-03T20:48:02.503704Z",
     "iopub.status.idle": "2021-08-03T20:48:02.521204Z",
     "shell.execute_reply": "2021-08-03T20:48:02.520507Z",
     "shell.execute_reply.started": "2021-08-03T19:38:53.758478Z"
    },
    "papermill": {
     "duration": 0.062024,
     "end_time": "2021-08-03T20:48:02.521359",
     "exception": false,
     "start_time": "2021-08-03T20:48:02.459335",
     "status": "completed"
    },
    "tags": []
   },
   "outputs": [
    {
     "data": {
      "text/plain": [
       "(2919, 77)"
      ]
     },
     "execution_count": 17,
     "metadata": {},
     "output_type": "execute_result"
    }
   ],
   "source": [
    "df = pd.concat([train, test], axis = 0)\n",
    "df.shape"
   ]
  },
  {
   "cell_type": "code",
   "execution_count": 18,
   "id": "13e55356",
   "metadata": {
    "execution": {
     "iopub.execute_input": "2021-08-03T20:48:02.589316Z",
     "iopub.status.busy": "2021-08-03T20:48:02.588235Z",
     "iopub.status.idle": "2021-08-03T20:48:02.596576Z",
     "shell.execute_reply": "2021-08-03T20:48:02.596035Z",
     "shell.execute_reply.started": "2021-08-03T19:38:53.783275Z"
    },
    "papermill": {
     "duration": 0.04354,
     "end_time": "2021-08-03T20:48:02.596757",
     "exception": false,
     "start_time": "2021-08-03T20:48:02.553217",
     "status": "completed"
    },
    "tags": []
   },
   "outputs": [
    {
     "data": {
      "text/plain": [
       "39"
      ]
     },
     "execution_count": 18,
     "metadata": {},
     "output_type": "execute_result"
    }
   ],
   "source": [
    "columns=['MSZoning','Street','LotShape','LandContour','Utilities','LotConfig','LandSlope','Neighborhood',\n",
    "         'Condition2','BldgType','Condition1','HouseStyle','SaleType', 'SaleCondition','ExterCond', \n",
    "         'ExterQual','Foundation','BsmtQual','BsmtCond','BsmtExposure','BsmtFinType1','BsmtFinType2',\n",
    "         'RoofStyle','RoofMatl','Exterior1st','Exterior2nd','MasVnrType','Heating','HeatingQC', 'CentralAir',\n",
    "         'Electrical','KitchenQual','Functional', 'FireplaceQu','GarageType','GarageFinish','GarageQual',\n",
    "         'GarageCond','PavedDrive']\n",
    "len(columns)"
   ]
  },
  {
   "cell_type": "code",
   "execution_count": 19,
   "id": "15df64f6",
   "metadata": {
    "execution": {
     "iopub.execute_input": "2021-08-03T20:48:02.669310Z",
     "iopub.status.busy": "2021-08-03T20:48:02.668356Z",
     "iopub.status.idle": "2021-08-03T20:48:02.670481Z",
     "shell.execute_reply": "2021-08-03T20:48:02.671066Z",
     "shell.execute_reply.started": "2021-08-03T19:38:53.791457Z"
    },
    "papermill": {
     "duration": 0.0424,
     "end_time": "2021-08-03T20:48:02.671266",
     "exception": false,
     "start_time": "2021-08-03T20:48:02.628866",
     "status": "completed"
    },
    "tags": []
   },
   "outputs": [],
   "source": [
    "def com(alu):\n",
    "    main = df\n",
    "    i = 0\n",
    "    for f in alu:\n",
    "        df1 = pd.get_dummies(df[f], drop_first = True)\n",
    "        df.drop([f], axis = 1, inplace = True )\n",
    "        if i == 0:\n",
    "            main = df1.copy()\n",
    "        else:\n",
    "            main = pd.concat([main, df1], axis = 1)\n",
    "        i = i + 1\n",
    "    main = pd.concat([df, main], axis = 1)\n",
    "    return(main)"
   ]
  },
  {
   "cell_type": "code",
   "execution_count": 20,
   "id": "793770d2",
   "metadata": {
    "execution": {
     "iopub.execute_input": "2021-08-03T20:48:02.740813Z",
     "iopub.status.busy": "2021-08-03T20:48:02.739973Z",
     "iopub.status.idle": "2021-08-03T20:48:02.890666Z",
     "shell.execute_reply": "2021-08-03T20:48:02.891160Z",
     "shell.execute_reply.started": "2021-08-03T19:38:53.801129Z"
    },
    "papermill": {
     "duration": 0.187291,
     "end_time": "2021-08-03T20:48:02.891354",
     "exception": false,
     "start_time": "2021-08-03T20:48:02.704063",
     "status": "completed"
    },
    "tags": []
   },
   "outputs": [],
   "source": [
    "df = com(columns)"
   ]
  },
  {
   "cell_type": "code",
   "execution_count": 21,
   "id": "0ccfc33d",
   "metadata": {
    "execution": {
     "iopub.execute_input": "2021-08-03T20:48:02.962495Z",
     "iopub.status.busy": "2021-08-03T20:48:02.961661Z",
     "iopub.status.idle": "2021-08-03T20:48:02.966237Z",
     "shell.execute_reply": "2021-08-03T20:48:02.965590Z",
     "shell.execute_reply.started": "2021-08-03T19:38:53.932859Z"
    },
    "papermill": {
     "duration": 0.042774,
     "end_time": "2021-08-03T20:48:02.966394",
     "exception": false,
     "start_time": "2021-08-03T20:48:02.923620",
     "status": "completed"
    },
    "tags": []
   },
   "outputs": [
    {
     "data": {
      "text/plain": [
       "(2919, 238)"
      ]
     },
     "execution_count": 21,
     "metadata": {},
     "output_type": "execute_result"
    }
   ],
   "source": [
    "df.shape"
   ]
  },
  {
   "cell_type": "code",
   "execution_count": 22,
   "id": "34b8b1f2",
   "metadata": {
    "execution": {
     "iopub.execute_input": "2021-08-03T20:48:03.039015Z",
     "iopub.status.busy": "2021-08-03T20:48:03.038228Z",
     "iopub.status.idle": "2021-08-03T20:48:03.044655Z",
     "shell.execute_reply": "2021-08-03T20:48:03.044012Z",
     "shell.execute_reply.started": "2021-08-03T19:38:53.939753Z"
    },
    "papermill": {
     "duration": 0.046009,
     "end_time": "2021-08-03T20:48:03.044812",
     "exception": false,
     "start_time": "2021-08-03T20:48:02.998803",
     "status": "completed"
    },
    "tags": []
   },
   "outputs": [],
   "source": [
    "df = df.loc[:, ~df.columns.duplicated()]"
   ]
  },
  {
   "cell_type": "code",
   "execution_count": 23,
   "id": "deb651fe",
   "metadata": {
    "execution": {
     "iopub.execute_input": "2021-08-03T20:48:03.116016Z",
     "iopub.status.busy": "2021-08-03T20:48:03.115278Z",
     "iopub.status.idle": "2021-08-03T20:48:03.118884Z",
     "shell.execute_reply": "2021-08-03T20:48:03.118357Z",
     "shell.execute_reply.started": "2021-08-03T19:38:53.953365Z"
    },
    "papermill": {
     "duration": 0.041855,
     "end_time": "2021-08-03T20:48:03.119029",
     "exception": false,
     "start_time": "2021-08-03T20:48:03.077174",
     "status": "completed"
    },
    "tags": []
   },
   "outputs": [],
   "source": [
    "df_train = df.iloc[:1460,:]\n",
    "df_test = df.iloc[1460: ,:]"
   ]
  },
  {
   "cell_type": "code",
   "execution_count": 24,
   "id": "e9316cf4",
   "metadata": {
    "execution": {
     "iopub.execute_input": "2021-08-03T20:48:03.190670Z",
     "iopub.status.busy": "2021-08-03T20:48:03.189959Z",
     "iopub.status.idle": "2021-08-03T20:48:03.200088Z",
     "shell.execute_reply": "2021-08-03T20:48:03.198910Z",
     "shell.execute_reply.started": "2021-08-03T19:38:53.964646Z"
    },
    "papermill": {
     "duration": 0.048379,
     "end_time": "2021-08-03T20:48:03.200252",
     "exception": false,
     "start_time": "2021-08-03T20:48:03.151873",
     "status": "completed"
    },
    "tags": []
   },
   "outputs": [
    {
     "name": "stderr",
     "output_type": "stream",
     "text": [
      "/opt/conda/lib/python3.7/site-packages/pandas/core/frame.py:4315: SettingWithCopyWarning: \n",
      "A value is trying to be set on a copy of a slice from a DataFrame\n",
      "\n",
      "See the caveats in the documentation: https://pandas.pydata.org/pandas-docs/stable/user_guide/indexing.html#returning-a-view-versus-a-copy\n",
      "  errors=errors,\n"
     ]
    }
   ],
   "source": [
    "df_test.drop(['SalePrice'], axis = 1, inplace = True)"
   ]
  },
  {
   "cell_type": "code",
   "execution_count": 25,
   "id": "832fc2bc",
   "metadata": {
    "execution": {
     "iopub.execute_input": "2021-08-03T20:48:03.271386Z",
     "iopub.status.busy": "2021-08-03T20:48:03.270715Z",
     "iopub.status.idle": "2021-08-03T20:48:03.274914Z",
     "shell.execute_reply": "2021-08-03T20:48:03.274276Z",
     "shell.execute_reply.started": "2021-08-03T19:38:53.978421Z"
    },
    "papermill": {
     "duration": 0.041929,
     "end_time": "2021-08-03T20:48:03.275079",
     "exception": false,
     "start_time": "2021-08-03T20:48:03.233150",
     "status": "completed"
    },
    "tags": []
   },
   "outputs": [
    {
     "data": {
      "text/plain": [
       "(1459, 177)"
      ]
     },
     "execution_count": 25,
     "metadata": {},
     "output_type": "execute_result"
    }
   ],
   "source": [
    "df_test.shape"
   ]
  },
  {
   "cell_type": "code",
   "execution_count": 26,
   "id": "ab87ba12",
   "metadata": {
    "execution": {
     "iopub.execute_input": "2021-08-03T20:48:03.350169Z",
     "iopub.status.busy": "2021-08-03T20:48:03.349409Z",
     "iopub.status.idle": "2021-08-03T20:48:03.353417Z",
     "shell.execute_reply": "2021-08-03T20:48:03.352885Z",
     "shell.execute_reply.started": "2021-08-03T19:38:53.992271Z"
    },
    "papermill": {
     "duration": 0.044407,
     "end_time": "2021-08-03T20:48:03.353582",
     "exception": false,
     "start_time": "2021-08-03T20:48:03.309175",
     "status": "completed"
    },
    "tags": []
   },
   "outputs": [],
   "source": [
    "X_train = df_train.drop(['SalePrice'], axis = 1)\n",
    "y_train = df_train['SalePrice']"
   ]
  },
  {
   "cell_type": "code",
   "execution_count": 27,
   "id": "d8c86b67",
   "metadata": {
    "execution": {
     "iopub.execute_input": "2021-08-03T20:48:03.425649Z",
     "iopub.status.busy": "2021-08-03T20:48:03.424944Z",
     "iopub.status.idle": "2021-08-03T20:48:03.815195Z",
     "shell.execute_reply": "2021-08-03T20:48:03.814067Z",
     "shell.execute_reply.started": "2021-08-03T19:38:54.004549Z"
    },
    "papermill": {
     "duration": 0.42844,
     "end_time": "2021-08-03T20:48:03.815363",
     "exception": false,
     "start_time": "2021-08-03T20:48:03.386923",
     "status": "completed"
    },
    "tags": []
   },
   "outputs": [],
   "source": [
    "# import xgboost\n",
    "# classifier = xgboost.XGBRegressor()\n",
    "from sklearn.ensemble import RandomForestClassifier as RFC\n",
    "classifier = RFC(n_estimators = 100)"
   ]
  },
  {
   "cell_type": "code",
   "execution_count": 28,
   "id": "25559bce",
   "metadata": {
    "execution": {
     "iopub.execute_input": "2021-08-03T20:48:03.893660Z",
     "iopub.status.busy": "2021-08-03T20:48:03.892386Z",
     "iopub.status.idle": "2021-08-03T20:48:08.412966Z",
     "shell.execute_reply": "2021-08-03T20:48:08.412296Z",
     "shell.execute_reply.started": "2021-08-03T19:38:54.013581Z"
    },
    "papermill": {
     "duration": 4.563279,
     "end_time": "2021-08-03T20:48:08.413122",
     "exception": false,
     "start_time": "2021-08-03T20:48:03.849843",
     "status": "completed"
    },
    "tags": []
   },
   "outputs": [
    {
     "data": {
      "text/plain": [
       "RandomForestClassifier()"
      ]
     },
     "execution_count": 28,
     "metadata": {},
     "output_type": "execute_result"
    }
   ],
   "source": [
    "classifier.fit(X_train, y_train)"
   ]
  },
  {
   "cell_type": "code",
   "execution_count": 29,
   "id": "91cdf819",
   "metadata": {
    "execution": {
     "iopub.execute_input": "2021-08-03T20:48:08.489613Z",
     "iopub.status.busy": "2021-08-03T20:48:08.488408Z",
     "iopub.status.idle": "2021-08-03T20:48:09.022166Z",
     "shell.execute_reply": "2021-08-03T20:48:09.021525Z",
     "shell.execute_reply.started": "2021-08-03T19:38:58.659610Z"
    },
    "papermill": {
     "duration": 0.575905,
     "end_time": "2021-08-03T20:48:09.022318",
     "exception": false,
     "start_time": "2021-08-03T20:48:08.446413",
     "status": "completed"
    },
    "tags": []
   },
   "outputs": [],
   "source": [
    "y_pred = classifier.predict(df_test)"
   ]
  },
  {
   "cell_type": "code",
   "execution_count": 30,
   "id": "b1232637",
   "metadata": {
    "execution": {
     "iopub.execute_input": "2021-08-03T20:48:09.096772Z",
     "iopub.status.busy": "2021-08-03T20:48:09.095803Z",
     "iopub.status.idle": "2021-08-03T20:48:09.101004Z",
     "shell.execute_reply": "2021-08-03T20:48:09.100395Z",
     "shell.execute_reply.started": "2021-08-03T19:38:59.085416Z"
    },
    "papermill": {
     "duration": 0.044171,
     "end_time": "2021-08-03T20:48:09.101157",
     "exception": false,
     "start_time": "2021-08-03T20:48:09.056986",
     "status": "completed"
    },
    "tags": []
   },
   "outputs": [
    {
     "data": {
      "text/plain": [
       "array([144000., 147500., 175000., ..., 135000.,  93500., 238000.])"
      ]
     },
     "execution_count": 30,
     "metadata": {},
     "output_type": "execute_result"
    }
   ],
   "source": [
    "y_pred"
   ]
  },
  {
   "cell_type": "code",
   "execution_count": 31,
   "id": "140d9a27",
   "metadata": {
    "execution": {
     "iopub.execute_input": "2021-08-03T20:48:09.181584Z",
     "iopub.status.busy": "2021-08-03T20:48:09.180522Z",
     "iopub.status.idle": "2021-08-03T20:48:09.185124Z",
     "shell.execute_reply": "2021-08-03T20:48:09.184426Z",
     "shell.execute_reply.started": "2021-08-03T19:38:59.093167Z"
    },
    "papermill": {
     "duration": 0.049419,
     "end_time": "2021-08-03T20:48:09.185416",
     "exception": false,
     "start_time": "2021-08-03T20:48:09.135997",
     "status": "completed"
    },
    "tags": []
   },
   "outputs": [
    {
     "data": {
      "text/html": [
       "<div>\n",
       "<style scoped>\n",
       "    .dataframe tbody tr th:only-of-type {\n",
       "        vertical-align: middle;\n",
       "    }\n",
       "\n",
       "    .dataframe tbody tr th {\n",
       "        vertical-align: top;\n",
       "    }\n",
       "\n",
       "    .dataframe thead th {\n",
       "        text-align: right;\n",
       "    }\n",
       "</style>\n",
       "<table border=\"1\" class=\"dataframe\">\n",
       "  <thead>\n",
       "    <tr style=\"text-align: right;\">\n",
       "      <th></th>\n",
       "      <th>0</th>\n",
       "    </tr>\n",
       "  </thead>\n",
       "  <tbody>\n",
       "    <tr>\n",
       "      <th>0</th>\n",
       "      <td>144000.0</td>\n",
       "    </tr>\n",
       "    <tr>\n",
       "      <th>1</th>\n",
       "      <td>147500.0</td>\n",
       "    </tr>\n",
       "    <tr>\n",
       "      <th>2</th>\n",
       "      <td>175000.0</td>\n",
       "    </tr>\n",
       "    <tr>\n",
       "      <th>3</th>\n",
       "      <td>175000.0</td>\n",
       "    </tr>\n",
       "    <tr>\n",
       "      <th>4</th>\n",
       "      <td>180000.0</td>\n",
       "    </tr>\n",
       "  </tbody>\n",
       "</table>\n",
       "</div>"
      ],
      "text/plain": [
       "          0\n",
       "0  144000.0\n",
       "1  147500.0\n",
       "2  175000.0\n",
       "3  175000.0\n",
       "4  180000.0"
      ]
     },
     "execution_count": 31,
     "metadata": {},
     "output_type": "execute_result"
    }
   ],
   "source": [
    "bebu = pd.DataFrame(y_pred)\n",
    "bebu.head()"
   ]
  },
  {
   "cell_type": "code",
   "execution_count": 32,
   "id": "3b777846",
   "metadata": {
    "execution": {
     "iopub.execute_input": "2021-08-03T20:48:09.268838Z",
     "iopub.status.busy": "2021-08-03T20:48:09.267834Z",
     "iopub.status.idle": "2021-08-03T20:48:09.273473Z",
     "shell.execute_reply": "2021-08-03T20:48:09.272777Z",
     "shell.execute_reply.started": "2021-08-03T19:38:59.108531Z"
    },
    "papermill": {
     "duration": 0.051612,
     "end_time": "2021-08-03T20:48:09.273649",
     "exception": false,
     "start_time": "2021-08-03T20:48:09.222037",
     "status": "completed"
    },
    "tags": []
   },
   "outputs": [
    {
     "data": {
      "text/html": [
       "<div>\n",
       "<style scoped>\n",
       "    .dataframe tbody tr th:only-of-type {\n",
       "        vertical-align: middle;\n",
       "    }\n",
       "\n",
       "    .dataframe tbody tr th {\n",
       "        vertical-align: top;\n",
       "    }\n",
       "\n",
       "    .dataframe thead th {\n",
       "        text-align: right;\n",
       "    }\n",
       "</style>\n",
       "<table border=\"1\" class=\"dataframe\">\n",
       "  <thead>\n",
       "    <tr style=\"text-align: right;\">\n",
       "      <th></th>\n",
       "      <th>Id</th>\n",
       "      <th>0</th>\n",
       "    </tr>\n",
       "  </thead>\n",
       "  <tbody>\n",
       "    <tr>\n",
       "      <th>0</th>\n",
       "      <td>1461</td>\n",
       "      <td>144000.0</td>\n",
       "    </tr>\n",
       "    <tr>\n",
       "      <th>1</th>\n",
       "      <td>1462</td>\n",
       "      <td>147500.0</td>\n",
       "    </tr>\n",
       "    <tr>\n",
       "      <th>2</th>\n",
       "      <td>1463</td>\n",
       "      <td>175000.0</td>\n",
       "    </tr>\n",
       "    <tr>\n",
       "      <th>3</th>\n",
       "      <td>1464</td>\n",
       "      <td>175000.0</td>\n",
       "    </tr>\n",
       "    <tr>\n",
       "      <th>4</th>\n",
       "      <td>1465</td>\n",
       "      <td>180000.0</td>\n",
       "    </tr>\n",
       "  </tbody>\n",
       "</table>\n",
       "</div>"
      ],
      "text/plain": [
       "     Id         0\n",
       "0  1461  144000.0\n",
       "1  1462  147500.0\n",
       "2  1463  175000.0\n",
       "3  1464  175000.0\n",
       "4  1465  180000.0"
      ]
     },
     "execution_count": 32,
     "metadata": {},
     "output_type": "execute_result"
    }
   ],
   "source": [
    "result = pd.concat([samSub['Id'], bebu], axis = 1)\n",
    "result.head()"
   ]
  },
  {
   "cell_type": "code",
   "execution_count": 33,
   "id": "5eb97756",
   "metadata": {
    "execution": {
     "iopub.execute_input": "2021-08-03T20:48:09.349509Z",
     "iopub.status.busy": "2021-08-03T20:48:09.348385Z",
     "iopub.status.idle": "2021-08-03T20:48:09.360390Z",
     "shell.execute_reply": "2021-08-03T20:48:09.359622Z",
     "shell.execute_reply.started": "2021-08-03T19:38:59.124966Z"
    },
    "papermill": {
     "duration": 0.05187,
     "end_time": "2021-08-03T20:48:09.360539",
     "exception": false,
     "start_time": "2021-08-03T20:48:09.308669",
     "status": "completed"
    },
    "tags": []
   },
   "outputs": [],
   "source": [
    "result.columns = ['Id', 'SalePrice']\n",
    "result.to_csv('submission', index = False)\n"
   ]
  },
  {
   "cell_type": "code",
   "execution_count": 34,
   "id": "0e375efa",
   "metadata": {
    "execution": {
     "iopub.execute_input": "2021-08-03T20:48:09.457344Z",
     "iopub.status.busy": "2021-08-03T20:48:09.456117Z",
     "iopub.status.idle": "2021-08-03T20:48:09.464114Z",
     "shell.execute_reply": "2021-08-03T20:48:09.463068Z",
     "shell.execute_reply.started": "2021-08-03T19:38:59.140673Z"
    },
    "papermill": {
     "duration": 0.068455,
     "end_time": "2021-08-03T20:48:09.464349",
     "exception": false,
     "start_time": "2021-08-03T20:48:09.395894",
     "status": "completed"
    },
    "tags": []
   },
   "outputs": [
    {
     "data": {
      "text/html": [
       "<div>\n",
       "<style scoped>\n",
       "    .dataframe tbody tr th:only-of-type {\n",
       "        vertical-align: middle;\n",
       "    }\n",
       "\n",
       "    .dataframe tbody tr th {\n",
       "        vertical-align: top;\n",
       "    }\n",
       "\n",
       "    .dataframe thead th {\n",
       "        text-align: right;\n",
       "    }\n",
       "</style>\n",
       "<table border=\"1\" class=\"dataframe\">\n",
       "  <thead>\n",
       "    <tr style=\"text-align: right;\">\n",
       "      <th></th>\n",
       "      <th>Id</th>\n",
       "      <th>SalePrice</th>\n",
       "    </tr>\n",
       "  </thead>\n",
       "  <tbody>\n",
       "    <tr>\n",
       "      <th>0</th>\n",
       "      <td>1461</td>\n",
       "      <td>144000.0</td>\n",
       "    </tr>\n",
       "    <tr>\n",
       "      <th>1</th>\n",
       "      <td>1462</td>\n",
       "      <td>147500.0</td>\n",
       "    </tr>\n",
       "    <tr>\n",
       "      <th>2</th>\n",
       "      <td>1463</td>\n",
       "      <td>175000.0</td>\n",
       "    </tr>\n",
       "    <tr>\n",
       "      <th>3</th>\n",
       "      <td>1464</td>\n",
       "      <td>175000.0</td>\n",
       "    </tr>\n",
       "    <tr>\n",
       "      <th>4</th>\n",
       "      <td>1465</td>\n",
       "      <td>180000.0</td>\n",
       "    </tr>\n",
       "  </tbody>\n",
       "</table>\n",
       "</div>"
      ],
      "text/plain": [
       "     Id  SalePrice\n",
       "0  1461   144000.0\n",
       "1  1462   147500.0\n",
       "2  1463   175000.0\n",
       "3  1464   175000.0\n",
       "4  1465   180000.0"
      ]
     },
     "execution_count": 34,
     "metadata": {},
     "output_type": "execute_result"
    }
   ],
   "source": [
    "result.head()"
   ]
  },
  {
   "cell_type": "code",
   "execution_count": null,
   "id": "4b695ea2",
   "metadata": {
    "papermill": {
     "duration": 0.035612,
     "end_time": "2021-08-03T20:48:09.551280",
     "exception": false,
     "start_time": "2021-08-03T20:48:09.515668",
     "status": "completed"
    },
    "tags": []
   },
   "outputs": [],
   "source": []
  }
 ],
 "metadata": {
  "kernelspec": {
   "display_name": "Python 3",
   "language": "python",
   "name": "python3"
  },
  "language_info": {
   "codemirror_mode": {
    "name": "ipython",
    "version": 3
   },
   "file_extension": ".py",
   "mimetype": "text/x-python",
   "name": "python",
   "nbconvert_exporter": "python",
   "pygments_lexer": "ipython3",
   "version": "3.7.10"
  },
  "papermill": {
   "default_parameters": {},
   "duration": 19.862971,
   "end_time": "2021-08-03T20:48:10.398215",
   "environment_variables": {},
   "exception": null,
   "input_path": "__notebook__.ipynb",
   "output_path": "__notebook__.ipynb",
   "parameters": {},
   "start_time": "2021-08-03T20:47:50.535244",
   "version": "2.3.3"
  }
 },
 "nbformat": 4,
 "nbformat_minor": 5
}
